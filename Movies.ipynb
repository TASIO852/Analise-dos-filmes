{
  "cells": [
    {
      "cell_type": "code",
      "execution_count": 1,
      "metadata": {
        "colab": {
          "base_uri": "https://localhost:8080/",
          "height": 190
        },
        "colab_type": "code",
        "id": "gNG_YP0IdOLm",
        "outputId": "c3d36241-13f1-4f29-cf0a-c3c4b41d2ae0"
      },
      "outputs": [
        {
          "name": "stderr",
          "output_type": "stream",
          "text": [
            "c:\\Users\\tarsi\\OneDrive\\Documentos\\.env\\Lib\\site-packages\\fuzzywuzzy\\fuzz.py:11: UserWarning: Using slow pure-python SequenceMatcher. Install python-Levenshtein to remove this warning\n",
            "  warnings.warn('Using slow pure-python SequenceMatcher. Install python-Levenshtein to remove this warning')\n",
            "[nltk_data] Downloading package stopwords to\n",
            "[nltk_data]     C:\\Users\\tarsi\\AppData\\Roaming\\nltk_data...\n",
            "[nltk_data]   Package stopwords is already up-to-date!\n",
            "[nltk_data] Downloading package wordnet to\n",
            "[nltk_data]     C:\\Users\\tarsi\\AppData\\Roaming\\nltk_data...\n",
            "[nltk_data]   Package wordnet is already up-to-date!\n",
            "[nltk_data] Downloading package punkt to\n",
            "[nltk_data]     C:\\Users\\tarsi\\AppData\\Roaming\\nltk_data...\n",
            "[nltk_data]   Package punkt is already up-to-date!\n"
          ]
        },
        {
          "data": {
            "text/plain": [
              "True"
            ]
          },
          "execution_count": 1,
          "metadata": {},
          "output_type": "execute_result"
        }
      ],
      "source": [
        "# Importando os módulos.\n",
        "import pandas as pd\n",
        "import numpy as np\n",
        "import nltk\n",
        "import warnings\n",
        "from fuzzywuzzy import fuzz\n",
        "from fuzzywuzzy import process\n",
        "warnings.filterwarnings(\"ignore\")\n",
        "nltk.download('stopwords')\n",
        "nltk.download('wordnet')\n",
        "nltk.download('punkt')"
      ]
    },
    {
      "cell_type": "code",
      "execution_count": 2,
      "metadata": {
        "colab": {},
        "colab_type": "code",
        "id": "FIPblcXSVIuu"
      },
      "outputs": [],
      "source": [
        "# Dataset principal.\n",
        "df = pd.read_csv(\"Data/wiki_movie_plots_deduped.csv\")"
      ]
    },
    {
      "cell_type": "code",
      "execution_count": 3,
      "metadata": {
        "colab": {},
        "colab_type": "code",
        "id": "tlBgOvMJVbCi"
      },
      "outputs": [],
      "source": [
        "# Importando as colunas a serem utilizadas.\n",
        "df = pd.DataFrame(df,columns=[\"Title\",\"Genre\",\"Plot\"])"
      ]
    },
    {
      "cell_type": "code",
      "execution_count": 4,
      "metadata": {
        "colab": {},
        "colab_type": "code",
        "id": "uBLxfYV8V2vg"
      },
      "outputs": [],
      "source": [
        "# Vamos utilizar um outro Dataset com os genêros já padronizados.\n",
        "df_2 = pd.read_csv(\"Data/movie_metadata.csv\")"
      ]
    },
    {
      "cell_type": "code",
      "execution_count": 5,
      "metadata": {
        "colab": {},
        "colab_type": "code",
        "id": "I8DBFMlHWTWg"
      },
      "outputs": [],
      "source": [
        "# Queremos somente a coluna com a descrição dos genêros.\n",
        "df_2 = pd.DataFrame(df_2,columns=[\"genres\"])"
      ]
    },
    {
      "cell_type": "markdown",
      "metadata": {
        "colab_type": "text",
        "id": "GpmDTVEbaRTe"
      },
      "source": [
        "Visualizando o primeiro DataFrame."
      ]
    },
    {
      "cell_type": "code",
      "execution_count": 6,
      "metadata": {
        "colab": {
          "base_uri": "https://localhost:8080/",
          "height": 788
        },
        "colab_type": "code",
        "id": "IlaaDBz1XESx",
        "outputId": "cd38ea60-5340-42f4-8242-1bbf3a0af03d"
      },
      "outputs": [
        {
          "data": {
            "text/html": [
              "<div>\n",
              "<style scoped>\n",
              "    .dataframe tbody tr th:only-of-type {\n",
              "        vertical-align: middle;\n",
              "    }\n",
              "\n",
              "    .dataframe tbody tr th {\n",
              "        vertical-align: top;\n",
              "    }\n",
              "\n",
              "    .dataframe thead th {\n",
              "        text-align: right;\n",
              "    }\n",
              "</style>\n",
              "<table border=\"1\" class=\"dataframe\">\n",
              "  <thead>\n",
              "    <tr style=\"text-align: right;\">\n",
              "      <th></th>\n",
              "      <th>Title</th>\n",
              "      <th>Genre</th>\n",
              "      <th>Plot</th>\n",
              "    </tr>\n",
              "  </thead>\n",
              "  <tbody>\n",
              "    <tr>\n",
              "      <th>0</th>\n",
              "      <td>Kansas Saloon Smashers</td>\n",
              "      <td>unknown</td>\n",
              "      <td>A bartender is working at a saloon, serving dr...</td>\n",
              "    </tr>\n",
              "    <tr>\n",
              "      <th>1</th>\n",
              "      <td>Love by the Light of the Moon</td>\n",
              "      <td>unknown</td>\n",
              "      <td>The moon, painted with a smiling face hangs ov...</td>\n",
              "    </tr>\n",
              "    <tr>\n",
              "      <th>2</th>\n",
              "      <td>The Martyred Presidents</td>\n",
              "      <td>unknown</td>\n",
              "      <td>The film, just over a minute long, is composed...</td>\n",
              "    </tr>\n",
              "    <tr>\n",
              "      <th>3</th>\n",
              "      <td>Terrible Teddy, the Grizzly King</td>\n",
              "      <td>unknown</td>\n",
              "      <td>Lasting just 61 seconds and consisting of two ...</td>\n",
              "    </tr>\n",
              "    <tr>\n",
              "      <th>4</th>\n",
              "      <td>Jack and the Beanstalk</td>\n",
              "      <td>unknown</td>\n",
              "      <td>The earliest known adaptation of the classic f...</td>\n",
              "    </tr>\n",
              "    <tr>\n",
              "      <th>5</th>\n",
              "      <td>Alice in Wonderland</td>\n",
              "      <td>unknown</td>\n",
              "      <td>Alice follows a large white rabbit down a \"Rab...</td>\n",
              "    </tr>\n",
              "    <tr>\n",
              "      <th>6</th>\n",
              "      <td>The Great Train Robbery</td>\n",
              "      <td>western</td>\n",
              "      <td>The film opens with two bandits breaking into ...</td>\n",
              "    </tr>\n",
              "    <tr>\n",
              "      <th>7</th>\n",
              "      <td>The Suburbanite</td>\n",
              "      <td>comedy</td>\n",
              "      <td>The film is about a family who move to the sub...</td>\n",
              "    </tr>\n",
              "    <tr>\n",
              "      <th>8</th>\n",
              "      <td>The Little Train Robbery</td>\n",
              "      <td>unknown</td>\n",
              "      <td>The opening scene shows the interior of the ro...</td>\n",
              "    </tr>\n",
              "    <tr>\n",
              "      <th>9</th>\n",
              "      <td>The Night Before Christmas</td>\n",
              "      <td>unknown</td>\n",
              "      <td>Scenes are introduced using lines of the poem....</td>\n",
              "    </tr>\n",
              "    <tr>\n",
              "      <th>10</th>\n",
              "      <td>Dream of a Rarebit Fiend</td>\n",
              "      <td>short</td>\n",
              "      <td>The Rarebit Fiend gorges on Welsh rarebit at a...</td>\n",
              "    </tr>\n",
              "    <tr>\n",
              "      <th>11</th>\n",
              "      <td>From Leadville to Aspen: A Hold-Up in the Rockies</td>\n",
              "      <td>short action/crime western</td>\n",
              "      <td>The film features a train traveling through th...</td>\n",
              "    </tr>\n",
              "    <tr>\n",
              "      <th>12</th>\n",
              "      <td>Kathleen Mavourneen</td>\n",
              "      <td>short film</td>\n",
              "      <td>Irish villager Kathleen is a tenant of Captain...</td>\n",
              "    </tr>\n",
              "    <tr>\n",
              "      <th>13</th>\n",
              "      <td>Daniel Boone</td>\n",
              "      <td>biographical</td>\n",
              "      <td>Boone's daughter befriends an Indian maiden as...</td>\n",
              "    </tr>\n",
              "    <tr>\n",
              "      <th>14</th>\n",
              "      <td>How Brown Saw the Baseball Game</td>\n",
              "      <td>comedy</td>\n",
              "      <td>Before heading out to a baseball game at a nea...</td>\n",
              "    </tr>\n",
              "    <tr>\n",
              "      <th>15</th>\n",
              "      <td>Laughing Gas</td>\n",
              "      <td>comedy</td>\n",
              "      <td>The plot is that of a black woman going to the...</td>\n",
              "    </tr>\n",
              "    <tr>\n",
              "      <th>16</th>\n",
              "      <td>The Adventures of Dollie</td>\n",
              "      <td>drama</td>\n",
              "      <td>On a beautiful summer day a father and mother ...</td>\n",
              "    </tr>\n",
              "    <tr>\n",
              "      <th>17</th>\n",
              "      <td>The Black Viper</td>\n",
              "      <td>drama</td>\n",
              "      <td>A thug accosts a girl as she leaves her workpl...</td>\n",
              "    </tr>\n",
              "    <tr>\n",
              "      <th>18</th>\n",
              "      <td>A Calamitous Elopement</td>\n",
              "      <td>comedy</td>\n",
              "      <td>A young couple decides to elope after being ca...</td>\n",
              "    </tr>\n",
              "    <tr>\n",
              "      <th>19</th>\n",
              "      <td>The Call of the Wild</td>\n",
              "      <td>adventure</td>\n",
              "      <td>A white girl (Florence Lawrence) rejects a pro...</td>\n",
              "    </tr>\n",
              "  </tbody>\n",
              "</table>\n",
              "</div>"
            ],
            "text/plain": [
              "                                                Title  \\\n",
              "0                              Kansas Saloon Smashers   \n",
              "1                       Love by the Light of the Moon   \n",
              "2                             The Martyred Presidents   \n",
              "3                    Terrible Teddy, the Grizzly King   \n",
              "4                              Jack and the Beanstalk   \n",
              "5                                 Alice in Wonderland   \n",
              "6                             The Great Train Robbery   \n",
              "7                                     The Suburbanite   \n",
              "8                            The Little Train Robbery   \n",
              "9                          The Night Before Christmas   \n",
              "10                           Dream of a Rarebit Fiend   \n",
              "11  From Leadville to Aspen: A Hold-Up in the Rockies   \n",
              "12                                Kathleen Mavourneen   \n",
              "13                                       Daniel Boone   \n",
              "14                    How Brown Saw the Baseball Game   \n",
              "15                                       Laughing Gas   \n",
              "16                           The Adventures of Dollie   \n",
              "17                                    The Black Viper   \n",
              "18                             A Calamitous Elopement   \n",
              "19                               The Call of the Wild   \n",
              "\n",
              "                         Genre  \\\n",
              "0                      unknown   \n",
              "1                      unknown   \n",
              "2                      unknown   \n",
              "3                      unknown   \n",
              "4                      unknown   \n",
              "5                      unknown   \n",
              "6                      western   \n",
              "7                       comedy   \n",
              "8                      unknown   \n",
              "9                      unknown   \n",
              "10                       short   \n",
              "11  short action/crime western   \n",
              "12                  short film   \n",
              "13                biographical   \n",
              "14                      comedy   \n",
              "15                      comedy   \n",
              "16                       drama   \n",
              "17                       drama   \n",
              "18                      comedy   \n",
              "19                   adventure   \n",
              "\n",
              "                                                 Plot  \n",
              "0   A bartender is working at a saloon, serving dr...  \n",
              "1   The moon, painted with a smiling face hangs ov...  \n",
              "2   The film, just over a minute long, is composed...  \n",
              "3   Lasting just 61 seconds and consisting of two ...  \n",
              "4   The earliest known adaptation of the classic f...  \n",
              "5   Alice follows a large white rabbit down a \"Rab...  \n",
              "6   The film opens with two bandits breaking into ...  \n",
              "7   The film is about a family who move to the sub...  \n",
              "8   The opening scene shows the interior of the ro...  \n",
              "9   Scenes are introduced using lines of the poem....  \n",
              "10  The Rarebit Fiend gorges on Welsh rarebit at a...  \n",
              "11  The film features a train traveling through th...  \n",
              "12  Irish villager Kathleen is a tenant of Captain...  \n",
              "13  Boone's daughter befriends an Indian maiden as...  \n",
              "14  Before heading out to a baseball game at a nea...  \n",
              "15  The plot is that of a black woman going to the...  \n",
              "16  On a beautiful summer day a father and mother ...  \n",
              "17  A thug accosts a girl as she leaves her workpl...  \n",
              "18  A young couple decides to elope after being ca...  \n",
              "19  A white girl (Florence Lawrence) rejects a pro...  "
            ]
          },
          "execution_count": 6,
          "metadata": {},
          "output_type": "execute_result"
        }
      ],
      "source": [
        "df.head(20)"
      ]
    },
    {
      "cell_type": "markdown",
      "metadata": {
        "colab_type": "text",
        "id": "S9L8uQC8aZmH"
      },
      "source": [
        "Visualizando o segundo DataFrame."
      ]
    },
    {
      "cell_type": "code",
      "execution_count": 7,
      "metadata": {
        "colab": {
          "base_uri": "https://localhost:8080/",
          "height": 669
        },
        "colab_type": "code",
        "id": "t041Jfpmd-P5",
        "outputId": "a351579d-1b8c-409f-fc2b-f835fa0d796e"
      },
      "outputs": [
        {
          "data": {
            "text/html": [
              "<div>\n",
              "<style scoped>\n",
              "    .dataframe tbody tr th:only-of-type {\n",
              "        vertical-align: middle;\n",
              "    }\n",
              "\n",
              "    .dataframe tbody tr th {\n",
              "        vertical-align: top;\n",
              "    }\n",
              "\n",
              "    .dataframe thead th {\n",
              "        text-align: right;\n",
              "    }\n",
              "</style>\n",
              "<table border=\"1\" class=\"dataframe\">\n",
              "  <thead>\n",
              "    <tr style=\"text-align: right;\">\n",
              "      <th></th>\n",
              "      <th>genres</th>\n",
              "    </tr>\n",
              "  </thead>\n",
              "  <tbody>\n",
              "    <tr>\n",
              "      <th>0</th>\n",
              "      <td>Action|Adventure|Fantasy|Sci-Fi</td>\n",
              "    </tr>\n",
              "    <tr>\n",
              "      <th>1</th>\n",
              "      <td>Action|Adventure|Fantasy</td>\n",
              "    </tr>\n",
              "    <tr>\n",
              "      <th>2</th>\n",
              "      <td>Action|Adventure|Thriller</td>\n",
              "    </tr>\n",
              "    <tr>\n",
              "      <th>3</th>\n",
              "      <td>Action|Thriller</td>\n",
              "    </tr>\n",
              "    <tr>\n",
              "      <th>4</th>\n",
              "      <td>Documentary</td>\n",
              "    </tr>\n",
              "    <tr>\n",
              "      <th>5</th>\n",
              "      <td>Action|Adventure|Sci-Fi</td>\n",
              "    </tr>\n",
              "    <tr>\n",
              "      <th>6</th>\n",
              "      <td>Action|Adventure|Romance</td>\n",
              "    </tr>\n",
              "    <tr>\n",
              "      <th>7</th>\n",
              "      <td>Adventure|Animation|Comedy|Family|Fantasy|Musi...</td>\n",
              "    </tr>\n",
              "    <tr>\n",
              "      <th>8</th>\n",
              "      <td>Action|Adventure|Sci-Fi</td>\n",
              "    </tr>\n",
              "    <tr>\n",
              "      <th>9</th>\n",
              "      <td>Adventure|Family|Fantasy|Mystery</td>\n",
              "    </tr>\n",
              "    <tr>\n",
              "      <th>10</th>\n",
              "      <td>Action|Adventure|Sci-Fi</td>\n",
              "    </tr>\n",
              "    <tr>\n",
              "      <th>11</th>\n",
              "      <td>Action|Adventure|Sci-Fi</td>\n",
              "    </tr>\n",
              "    <tr>\n",
              "      <th>12</th>\n",
              "      <td>Action|Adventure</td>\n",
              "    </tr>\n",
              "    <tr>\n",
              "      <th>13</th>\n",
              "      <td>Action|Adventure|Fantasy</td>\n",
              "    </tr>\n",
              "    <tr>\n",
              "      <th>14</th>\n",
              "      <td>Action|Adventure|Western</td>\n",
              "    </tr>\n",
              "    <tr>\n",
              "      <th>15</th>\n",
              "      <td>Action|Adventure|Fantasy|Sci-Fi</td>\n",
              "    </tr>\n",
              "    <tr>\n",
              "      <th>16</th>\n",
              "      <td>Action|Adventure|Family|Fantasy</td>\n",
              "    </tr>\n",
              "    <tr>\n",
              "      <th>17</th>\n",
              "      <td>Action|Adventure|Sci-Fi</td>\n",
              "    </tr>\n",
              "    <tr>\n",
              "      <th>18</th>\n",
              "      <td>Action|Adventure|Fantasy</td>\n",
              "    </tr>\n",
              "    <tr>\n",
              "      <th>19</th>\n",
              "      <td>Action|Adventure|Comedy|Family|Fantasy|Sci-Fi</td>\n",
              "    </tr>\n",
              "  </tbody>\n",
              "</table>\n",
              "</div>"
            ],
            "text/plain": [
              "                                               genres\n",
              "0                     Action|Adventure|Fantasy|Sci-Fi\n",
              "1                            Action|Adventure|Fantasy\n",
              "2                           Action|Adventure|Thriller\n",
              "3                                     Action|Thriller\n",
              "4                                         Documentary\n",
              "5                             Action|Adventure|Sci-Fi\n",
              "6                            Action|Adventure|Romance\n",
              "7   Adventure|Animation|Comedy|Family|Fantasy|Musi...\n",
              "8                             Action|Adventure|Sci-Fi\n",
              "9                    Adventure|Family|Fantasy|Mystery\n",
              "10                            Action|Adventure|Sci-Fi\n",
              "11                            Action|Adventure|Sci-Fi\n",
              "12                                   Action|Adventure\n",
              "13                           Action|Adventure|Fantasy\n",
              "14                           Action|Adventure|Western\n",
              "15                    Action|Adventure|Fantasy|Sci-Fi\n",
              "16                    Action|Adventure|Family|Fantasy\n",
              "17                            Action|Adventure|Sci-Fi\n",
              "18                           Action|Adventure|Fantasy\n",
              "19      Action|Adventure|Comedy|Family|Fantasy|Sci-Fi"
            ]
          },
          "execution_count": 7,
          "metadata": {},
          "output_type": "execute_result"
        }
      ],
      "source": [
        "df_2.head(20)"
      ]
    },
    {
      "cell_type": "markdown",
      "metadata": {
        "colab_type": "text",
        "id": "fmHQRYvyZ-8e"
      },
      "source": [
        "* A coluna \"Genre\" do primeiro DataFrame é onde se encontra os dados com problemas de escrita.\n",
        "* Na coluna \"genres\" os dados já estão limpos e devidamente padronizados."
      ]
    },
    {
      "cell_type": "code",
      "execution_count": 8,
      "metadata": {
        "colab": {},
        "colab_type": "code",
        "id": "ozs6XMiCf4K5"
      },
      "outputs": [],
      "source": [
        "df_ = df_2.drop_duplicates()"
      ]
    },
    {
      "cell_type": "markdown",
      "metadata": {
        "colab_type": "text",
        "id": "idqGiW1EFXsT"
      },
      "source": [
        "Vamos dar uma olhada na quantidade de valores únicos que as essas colunas possuem."
      ]
    },
    {
      "cell_type": "code",
      "execution_count": 9,
      "metadata": {
        "colab": {
          "base_uri": "https://localhost:8080/",
          "height": 34
        },
        "colab_type": "code",
        "id": "8VlvZwGwXUTv",
        "outputId": "5ea0d861-a128-4246-8dbf-d880b93f446a"
      },
      "outputs": [
        {
          "name": "stdout",
          "output_type": "stream",
          "text": [
            "2265\n"
          ]
        }
      ],
      "source": [
        "print(df[\"Genre\"].unique().shape[0])"
      ]
    },
    {
      "cell_type": "code",
      "execution_count": 10,
      "metadata": {
        "colab": {
          "base_uri": "https://localhost:8080/",
          "height": 34
        },
        "colab_type": "code",
        "id": "2a2GIPp9Xugo",
        "outputId": "a422bfd1-e6af-45f3-e2cb-86467ea84fb7"
      },
      "outputs": [
        {
          "name": "stdout",
          "output_type": "stream",
          "text": [
            "914\n"
          ]
        }
      ],
      "source": [
        "print(df_2[\"genres\"].unique().shape[0])"
      ]
    },
    {
      "cell_type": "markdown",
      "metadata": {
        "colab_type": "text",
        "id": "a3NJ2yB-alyw"
      },
      "source": [
        "Visualizando alguns dados."
      ]
    },
    {
      "cell_type": "code",
      "execution_count": 11,
      "metadata": {
        "colab": {
          "base_uri": "https://localhost:8080/",
          "height": 357
        },
        "colab_type": "code",
        "id": "DAJNcqajaSR3",
        "outputId": "77e7519a-5314-4399-98b6-3e716fb40265"
      },
      "outputs": [
        {
          "data": {
            "text/plain": [
              "['unknown',\n",
              " 'western',\n",
              " 'comedy',\n",
              " 'short',\n",
              " 'short action/crime western',\n",
              " 'short film',\n",
              " 'biographical',\n",
              " 'drama',\n",
              " 'adventure',\n",
              " 'short fantasy',\n",
              " 'silent sports',\n",
              " 'horror',\n",
              " 'crime',\n",
              " 'drama, horror',\n",
              " 'historical drama',\n",
              " 'fantasy drama',\n",
              " 'biographical drama',\n",
              " 'documentary drama',\n",
              " 'fantasy',\n",
              " 'adventure serial']"
            ]
          },
          "execution_count": 11,
          "metadata": {},
          "output_type": "execute_result"
        }
      ],
      "source": [
        "df[\"Genre\"].unique().tolist()[:20]"
      ]
    },
    {
      "cell_type": "code",
      "execution_count": 12,
      "metadata": {
        "colab": {
          "base_uri": "https://localhost:8080/",
          "height": 357
        },
        "colab_type": "code",
        "id": "P8rAAqcqa4Ua",
        "outputId": "e5e19f8e-5c61-4340-da6d-b5dc8d254152"
      },
      "outputs": [
        {
          "data": {
            "text/plain": [
              "['Action|Adventure|Fantasy|Sci-Fi',\n",
              " 'Action|Adventure|Fantasy',\n",
              " 'Action|Adventure|Thriller',\n",
              " 'Action|Thriller',\n",
              " 'Documentary',\n",
              " 'Action|Adventure|Sci-Fi',\n",
              " 'Action|Adventure|Romance',\n",
              " 'Adventure|Animation|Comedy|Family|Fantasy|Musical|Romance',\n",
              " 'Adventure|Family|Fantasy|Mystery',\n",
              " 'Action|Adventure',\n",
              " 'Action|Adventure|Western',\n",
              " 'Action|Adventure|Family|Fantasy',\n",
              " 'Action|Adventure|Comedy|Family|Fantasy|Sci-Fi',\n",
              " 'Adventure|Fantasy',\n",
              " 'Action|Adventure|Drama|History',\n",
              " 'Adventure|Family|Fantasy',\n",
              " 'Action|Adventure|Drama|Romance',\n",
              " 'Drama|Romance',\n",
              " 'Action|Adventure|Sci-Fi|Thriller',\n",
              " 'Action|Adventure|Fantasy|Romance']"
            ]
          },
          "execution_count": 12,
          "metadata": {},
          "output_type": "execute_result"
        }
      ],
      "source": [
        "df_2[\"genres\"].unique().tolist()[:20]"
      ]
    },
    {
      "cell_type": "markdown",
      "metadata": {
        "colab_type": "text",
        "id": "hLrQiioEbLAa"
      },
      "source": [
        "Nossa coluna \"Genre\" possui dados que estão separados por vírgula, alguns por traços, ou seja, não existe nenhum padrão. Podemos resolver isso facilmente removendo todos os caracteres que são estranhos."
      ]
    },
    {
      "cell_type": "code",
      "execution_count": 13,
      "metadata": {
        "colab": {},
        "colab_type": "code",
        "id": "ZdiV28CYhA3A"
      },
      "outputs": [],
      "source": [
        "df[\"Genre\"] = df[\"Genre\"].str.replace('[^A-Za-z]+', ' ')"
      ]
    },
    {
      "cell_type": "markdown",
      "metadata": {
        "colab_type": "text",
        "id": "Obqj0vNJb8zc"
      },
      "source": [
        "Temos também valores que são indefinidos, nesse caso vamos transformar esse valores em branco."
      ]
    },
    {
      "cell_type": "code",
      "execution_count": 14,
      "metadata": {
        "colab": {},
        "colab_type": "code",
        "id": "7yrJn2TKGPha"
      },
      "outputs": [],
      "source": [
        "df[\"Genre\"] = df[\"Genre\"].str.replace('unknown', ' ')"
      ]
    },
    {
      "cell_type": "markdown",
      "metadata": {
        "colab_type": "text",
        "id": "bjES1695cyek"
      },
      "source": [
        "Vamos verificar como ficou nosso dataset depois dessas transformações."
      ]
    },
    {
      "cell_type": "code",
      "execution_count": 15,
      "metadata": {
        "colab": {
          "base_uri": "https://localhost:8080/",
          "height": 357
        },
        "colab_type": "code",
        "id": "ZgLMmdkhhFGU",
        "outputId": "7c6c0073-3afb-4312-b169-389f2be916ae"
      },
      "outputs": [
        {
          "data": {
            "text/plain": [
              "[' ',\n",
              " 'western',\n",
              " 'comedy',\n",
              " 'short',\n",
              " 'short action crime western',\n",
              " 'short film',\n",
              " 'biographical',\n",
              " 'drama',\n",
              " 'adventure',\n",
              " 'short fantasy',\n",
              " 'silent sports',\n",
              " 'horror',\n",
              " 'crime',\n",
              " 'drama horror',\n",
              " 'historical drama',\n",
              " 'fantasy drama',\n",
              " 'biographical drama',\n",
              " 'documentary drama',\n",
              " 'fantasy',\n",
              " 'adventure serial']"
            ]
          },
          "execution_count": 15,
          "metadata": {},
          "output_type": "execute_result"
        }
      ],
      "source": [
        "df[\"Genre\"].unique().tolist()[:20]"
      ]
    },
    {
      "cell_type": "markdown",
      "metadata": {
        "colab_type": "text",
        "id": "yNlU1PIbdm6E"
      },
      "source": [
        "Agora vamos criar uma função para aplicar a biblioteca fuzzywuzzy.\n",
        "Esta função utiliza a biblioteca fuzzywuzzy para comparar cada genêro com\n",
        "uma String que está correta, caso haja algum problema de grafia a string é substituída pela forma correta."
      ]
    },
    {
      "cell_type": "code",
      "execution_count": 16,
      "metadata": {
        "colab": {},
        "colab_type": "code",
        "id": "cJVko70bb0BN"
      },
      "outputs": [],
      "source": [
        "def replace_matches_in_column(data, column, string_match, min_ratio, only_test=False):\n",
        "\n",
        "    # lista de strings únicas.\n",
        "    strings = data[column].unique()\n",
        "\n",
        "    # Definindo 10 como o número limite de strings mais correspondentes.\n",
        "    matches = process.extract(string_match, strings,\n",
        "                                         limit=10,\n",
        "                                         scorer=fuzz.token_sort_ratio)\n",
        "\n",
        "    # Obtendo as correspondencias que são maiores que o min_ratio.\n",
        "    close_matches = [matches[0] for matches in matches if matches[1] >= min_ratio]\n",
        "    if len(close_matches) > 0:\n",
        "        print(string_match, ':', close_matches)\n",
        "\n",
        "    # Obtendo as linhas que não correspondem ao limite definido.\n",
        "    if not(only_test):\n",
        "        rows_with_matches = data[column].isin(close_matches)\n",
        "\n",
        "        # Substituindo todos os valores correspondentes pelo valor de entrada.\n",
        "        # Os valores que não são correspondentes irão permanecer os mesmos.\n",
        "        data.loc[rows_with_matches, column] = string_match"
      ]
    },
    {
      "cell_type": "code",
      "execution_count": null,
      "metadata": {
        "colab": {
          "base_uri": "https://localhost:8080/",
          "height": 1000
        },
        "colab_type": "code",
        "id": "GaSgZeM4b2px",
        "outputId": "ec000a07-954e-4dfb-f613-bc787728a0cc"
      },
      "outputs": [],
      "source": [
        "# Eu utilizei uma taxa de semelhança  de 80%.\n",
        "for marca in df_2['genres']:\n",
        "     replace_matches_in_column(data=df, column=\"Genre\", \n",
        "                             string_match=marca, min_ratio=80)"
      ]
    },
    {
      "cell_type": "markdown",
      "metadata": {
        "colab_type": "text",
        "id": "HJVCH3KAd-tO"
      },
      "source": [
        "Agora que terminamos de aplicar a nossa função e encontrar a similaridade entre os nossos dados, vamos verificar quantos valores únicos nosso dataset possui agora."
      ]
    },
    {
      "cell_type": "code",
      "execution_count": 18,
      "metadata": {
        "colab": {
          "base_uri": "https://localhost:8080/",
          "height": 34
        },
        "colab_type": "code",
        "id": "-4N11m98elE4",
        "outputId": "770eea55-a365-491c-ecc1-93ce4284d2c5"
      },
      "outputs": [
        {
          "name": "stdout",
          "output_type": "stream",
          "text": [
            "1332\n"
          ]
        }
      ],
      "source": [
        "print(df[\"Genre\"].unique().shape[0])"
      ]
    },
    {
      "cell_type": "code",
      "execution_count": 19,
      "metadata": {
        "colab": {
          "base_uri": "https://localhost:8080/",
          "height": 669
        },
        "colab_type": "code",
        "id": "0AxIVkGLemxI",
        "outputId": "1a7ec13b-9ccb-4a88-a410-db540cf414c8"
      },
      "outputs": [
        {
          "data": {
            "text/html": [
              "<div>\n",
              "<style scoped>\n",
              "    .dataframe tbody tr th:only-of-type {\n",
              "        vertical-align: middle;\n",
              "    }\n",
              "\n",
              "    .dataframe tbody tr th {\n",
              "        vertical-align: top;\n",
              "    }\n",
              "\n",
              "    .dataframe thead th {\n",
              "        text-align: right;\n",
              "    }\n",
              "</style>\n",
              "<table border=\"1\" class=\"dataframe\">\n",
              "  <thead>\n",
              "    <tr style=\"text-align: right;\">\n",
              "      <th></th>\n",
              "      <th>Title</th>\n",
              "      <th>Genre</th>\n",
              "      <th>Plot</th>\n",
              "    </tr>\n",
              "  </thead>\n",
              "  <tbody>\n",
              "    <tr>\n",
              "      <th>0</th>\n",
              "      <td>Kansas Saloon Smashers</td>\n",
              "      <td></td>\n",
              "      <td>A bartender is working at a saloon, serving dr...</td>\n",
              "    </tr>\n",
              "    <tr>\n",
              "      <th>1</th>\n",
              "      <td>Love by the Light of the Moon</td>\n",
              "      <td></td>\n",
              "      <td>The moon, painted with a smiling face hangs ov...</td>\n",
              "    </tr>\n",
              "    <tr>\n",
              "      <th>2</th>\n",
              "      <td>The Martyred Presidents</td>\n",
              "      <td></td>\n",
              "      <td>The film, just over a minute long, is composed...</td>\n",
              "    </tr>\n",
              "    <tr>\n",
              "      <th>3</th>\n",
              "      <td>Terrible Teddy, the Grizzly King</td>\n",
              "      <td></td>\n",
              "      <td>Lasting just 61 seconds and consisting of two ...</td>\n",
              "    </tr>\n",
              "    <tr>\n",
              "      <th>4</th>\n",
              "      <td>Jack and the Beanstalk</td>\n",
              "      <td></td>\n",
              "      <td>The earliest known adaptation of the classic f...</td>\n",
              "    </tr>\n",
              "    <tr>\n",
              "      <th>5</th>\n",
              "      <td>Alice in Wonderland</td>\n",
              "      <td></td>\n",
              "      <td>Alice follows a large white rabbit down a \"Rab...</td>\n",
              "    </tr>\n",
              "    <tr>\n",
              "      <th>6</th>\n",
              "      <td>The Great Train Robbery</td>\n",
              "      <td>western</td>\n",
              "      <td>The film opens with two bandits breaking into ...</td>\n",
              "    </tr>\n",
              "    <tr>\n",
              "      <th>7</th>\n",
              "      <td>The Suburbanite</td>\n",
              "      <td>Comedy</td>\n",
              "      <td>The film is about a family who move to the sub...</td>\n",
              "    </tr>\n",
              "    <tr>\n",
              "      <th>8</th>\n",
              "      <td>The Little Train Robbery</td>\n",
              "      <td></td>\n",
              "      <td>The opening scene shows the interior of the ro...</td>\n",
              "    </tr>\n",
              "    <tr>\n",
              "      <th>9</th>\n",
              "      <td>The Night Before Christmas</td>\n",
              "      <td></td>\n",
              "      <td>Scenes are introduced using lines of the poem....</td>\n",
              "    </tr>\n",
              "    <tr>\n",
              "      <th>10</th>\n",
              "      <td>Dream of a Rarebit Fiend</td>\n",
              "      <td>short</td>\n",
              "      <td>The Rarebit Fiend gorges on Welsh rarebit at a...</td>\n",
              "    </tr>\n",
              "    <tr>\n",
              "      <th>11</th>\n",
              "      <td>From Leadville to Aspen: A Hold-Up in the Rockies</td>\n",
              "      <td>short action crime western</td>\n",
              "      <td>The film features a train traveling through th...</td>\n",
              "    </tr>\n",
              "    <tr>\n",
              "      <th>12</th>\n",
              "      <td>Kathleen Mavourneen</td>\n",
              "      <td>short film</td>\n",
              "      <td>Irish villager Kathleen is a tenant of Captain...</td>\n",
              "    </tr>\n",
              "    <tr>\n",
              "      <th>13</th>\n",
              "      <td>Daniel Boone</td>\n",
              "      <td>biographical</td>\n",
              "      <td>Boone's daughter befriends an Indian maiden as...</td>\n",
              "    </tr>\n",
              "    <tr>\n",
              "      <th>14</th>\n",
              "      <td>How Brown Saw the Baseball Game</td>\n",
              "      <td>Comedy</td>\n",
              "      <td>Before heading out to a baseball game at a nea...</td>\n",
              "    </tr>\n",
              "    <tr>\n",
              "      <th>15</th>\n",
              "      <td>Laughing Gas</td>\n",
              "      <td>Comedy</td>\n",
              "      <td>The plot is that of a black woman going to the...</td>\n",
              "    </tr>\n",
              "    <tr>\n",
              "      <th>16</th>\n",
              "      <td>The Adventures of Dollie</td>\n",
              "      <td>drama</td>\n",
              "      <td>On a beautiful summer day a father and mother ...</td>\n",
              "    </tr>\n",
              "    <tr>\n",
              "      <th>17</th>\n",
              "      <td>The Black Viper</td>\n",
              "      <td>drama</td>\n",
              "      <td>A thug accosts a girl as she leaves her workpl...</td>\n",
              "    </tr>\n",
              "    <tr>\n",
              "      <th>18</th>\n",
              "      <td>A Calamitous Elopement</td>\n",
              "      <td>Comedy</td>\n",
              "      <td>A young couple decides to elope after being ca...</td>\n",
              "    </tr>\n",
              "    <tr>\n",
              "      <th>19</th>\n",
              "      <td>The Call of the Wild</td>\n",
              "      <td>Adventure</td>\n",
              "      <td>A white girl (Florence Lawrence) rejects a pro...</td>\n",
              "    </tr>\n",
              "  </tbody>\n",
              "</table>\n",
              "</div>"
            ],
            "text/plain": [
              "                                                Title  \\\n",
              "0                              Kansas Saloon Smashers   \n",
              "1                       Love by the Light of the Moon   \n",
              "2                             The Martyred Presidents   \n",
              "3                    Terrible Teddy, the Grizzly King   \n",
              "4                              Jack and the Beanstalk   \n",
              "5                                 Alice in Wonderland   \n",
              "6                             The Great Train Robbery   \n",
              "7                                     The Suburbanite   \n",
              "8                            The Little Train Robbery   \n",
              "9                          The Night Before Christmas   \n",
              "10                           Dream of a Rarebit Fiend   \n",
              "11  From Leadville to Aspen: A Hold-Up in the Rockies   \n",
              "12                                Kathleen Mavourneen   \n",
              "13                                       Daniel Boone   \n",
              "14                    How Brown Saw the Baseball Game   \n",
              "15                                       Laughing Gas   \n",
              "16                           The Adventures of Dollie   \n",
              "17                                    The Black Viper   \n",
              "18                             A Calamitous Elopement   \n",
              "19                               The Call of the Wild   \n",
              "\n",
              "                         Genre  \\\n",
              "0                                \n",
              "1                                \n",
              "2                                \n",
              "3                                \n",
              "4                                \n",
              "5                                \n",
              "6                      western   \n",
              "7                       Comedy   \n",
              "8                                \n",
              "9                                \n",
              "10                       short   \n",
              "11  short action crime western   \n",
              "12                  short film   \n",
              "13                biographical   \n",
              "14                      Comedy   \n",
              "15                      Comedy   \n",
              "16                       drama   \n",
              "17                       drama   \n",
              "18                      Comedy   \n",
              "19                   Adventure   \n",
              "\n",
              "                                                 Plot  \n",
              "0   A bartender is working at a saloon, serving dr...  \n",
              "1   The moon, painted with a smiling face hangs ov...  \n",
              "2   The film, just over a minute long, is composed...  \n",
              "3   Lasting just 61 seconds and consisting of two ...  \n",
              "4   The earliest known adaptation of the classic f...  \n",
              "5   Alice follows a large white rabbit down a \"Rab...  \n",
              "6   The film opens with two bandits breaking into ...  \n",
              "7   The film is about a family who move to the sub...  \n",
              "8   The opening scene shows the interior of the ro...  \n",
              "9   Scenes are introduced using lines of the poem....  \n",
              "10  The Rarebit Fiend gorges on Welsh rarebit at a...  \n",
              "11  The film features a train traveling through th...  \n",
              "12  Irish villager Kathleen is a tenant of Captain...  \n",
              "13  Boone's daughter befriends an Indian maiden as...  \n",
              "14  Before heading out to a baseball game at a nea...  \n",
              "15  The plot is that of a black woman going to the...  \n",
              "16  On a beautiful summer day a father and mother ...  \n",
              "17  A thug accosts a girl as she leaves her workpl...  \n",
              "18  A young couple decides to elope after being ca...  \n",
              "19  A white girl (Florence Lawrence) rejects a pro...  "
            ]
          },
          "execution_count": 19,
          "metadata": {},
          "output_type": "execute_result"
        }
      ],
      "source": [
        "df.head(20)"
      ]
    },
    {
      "cell_type": "markdown",
      "metadata": {
        "colab_type": "text",
        "id": "iAlTOU4Ufppt"
      },
      "source": [
        "Bem, podemos observar agora que tivemos uma redução consideravel no número de valores únicos em nosso dataset."
      ]
    },
    {
      "cell_type": "markdown",
      "metadata": {
        "colab_type": "text",
        "id": "zXrKtf5pf0CW"
      },
      "source": [
        "Na verdade muitos desses valores significavam a mesma coisa, porém estavam escritos de várias formas diferentes. Ainda possuimos alguns valores incorretos, mais a sua grande maioria foi tratada."
      ]
    }
  ],
  "metadata": {
    "colab": {
      "collapsed_sections": [],
      "name": " Movie_genres.ipynb",
      "provenance": []
    },
    "kernelspec": {
      "display_name": "Python 3",
      "name": "python3"
    },
    "language_info": {
      "codemirror_mode": {
        "name": "ipython",
        "version": 3
      },
      "file_extension": ".py",
      "mimetype": "text/x-python",
      "name": "python",
      "nbconvert_exporter": "python",
      "pygments_lexer": "ipython3",
      "version": "3.11.2"
    }
  },
  "nbformat": 4,
  "nbformat_minor": 0
}

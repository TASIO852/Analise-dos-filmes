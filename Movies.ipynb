{
  "cells": [
    {
      "cell_type": "code",
      "execution_count": null,
      "metadata": {
        "colab": {
          "base_uri": "https://localhost:8080/",
          "height": 34
        },
        "colab_type": "code",
        "id": "ICvX2k8wU4aX",
        "outputId": "fc4fc245-9fb9-4d18-c8fd-3272d1c8e7fc"
      },
      "outputs": [],
      "source": [
        "# Instalando as libs necessárias.\n",
        "%pip install fuzzywuzzy "
      ]
    },
    {
      "cell_type": "code",
      "execution_count": null,
      "metadata": {
        "colab": {
          "base_uri": "https://localhost:8080/",
          "height": 190
        },
        "colab_type": "code",
        "id": "gNG_YP0IdOLm",
        "outputId": "c3d36241-13f1-4f29-cf0a-c3c4b41d2ae0"
      },
      "outputs": [],
      "source": [
        "# Importando os módulos.\n",
        "import pandas as pd\n",
        "import numpy as np\n",
        "import pandas_profiling\n",
        "import nltk\n",
        "import warnings\n",
        "from fuzzywuzzy import fuzz\n",
        "from fuzzywuzzy import process\n",
        "warnings.filterwarnings(\"ignore\")\n",
        "nltk.download('stopwords')\n",
        "nltk.download('wordnet')\n",
        "nltk.download('punkt')"
      ]
    },
    {
      "cell_type": "code",
      "execution_count": null,
      "metadata": {
        "colab": {
          "base_uri": "https://localhost:8080/",
          "height": 54
        },
        "colab_type": "code",
        "id": "L2nPjRfwVH-H",
        "outputId": "54c271df-97d0-4bf7-fe25-910b03f394b7"
      },
      "outputs": [],
      "source": [
        "from google.colab import drive\n",
        "drive.mount('/content/drive')"
      ]
    },
    {
      "cell_type": "code",
      "execution_count": null,
      "metadata": {
        "colab": {},
        "colab_type": "code",
        "id": "FIPblcXSVIuu"
      },
      "outputs": [],
      "source": [
        "# Dataset principal.\n",
        "df = pd.read_csv(\"drive/My Drive/Colab Notebooks/NLP/wiki_movie_plots_deduped.csv\")"
      ]
    },
    {
      "cell_type": "code",
      "execution_count": null,
      "metadata": {
        "colab": {},
        "colab_type": "code",
        "id": "tlBgOvMJVbCi"
      },
      "outputs": [],
      "source": [
        "# Importando as colunas a serem utilizadas.\n",
        "df = pd.DataFrame(df,columns=[\"Title\",\"Genre\",\"Plot\"])"
      ]
    },
    {
      "cell_type": "code",
      "execution_count": null,
      "metadata": {
        "colab": {},
        "colab_type": "code",
        "id": "uBLxfYV8V2vg"
      },
      "outputs": [],
      "source": [
        "# Vamos utilizar um outro Dataset com os genêros já padronizados.\n",
        "df_2 = pd.read_csv(\"drive/My Drive/Colab Notebooks/NLP/movie_metadata.csv\")"
      ]
    },
    {
      "cell_type": "code",
      "execution_count": null,
      "metadata": {
        "colab": {},
        "colab_type": "code",
        "id": "I8DBFMlHWTWg"
      },
      "outputs": [],
      "source": [
        "# Queremos somente a coluna com a descrição dos genêros.\n",
        "df_2 = pd.DataFrame(df_2,columns=[\"genres\"])"
      ]
    },
    {
      "cell_type": "markdown",
      "metadata": {
        "colab_type": "text",
        "id": "GpmDTVEbaRTe"
      },
      "source": [
        "Visualizando o primeiro DataFrame."
      ]
    },
    {
      "cell_type": "code",
      "execution_count": null,
      "metadata": {
        "colab": {
          "base_uri": "https://localhost:8080/",
          "height": 788
        },
        "colab_type": "code",
        "id": "IlaaDBz1XESx",
        "outputId": "cd38ea60-5340-42f4-8242-1bbf3a0af03d"
      },
      "outputs": [],
      "source": [
        "df.head(20)"
      ]
    },
    {
      "cell_type": "markdown",
      "metadata": {
        "colab_type": "text",
        "id": "S9L8uQC8aZmH"
      },
      "source": [
        "Visualizando o segundo DataFrame."
      ]
    },
    {
      "cell_type": "code",
      "execution_count": null,
      "metadata": {
        "colab": {
          "base_uri": "https://localhost:8080/",
          "height": 669
        },
        "colab_type": "code",
        "id": "t041Jfpmd-P5",
        "outputId": "a351579d-1b8c-409f-fc2b-f835fa0d796e"
      },
      "outputs": [],
      "source": [
        "df_2.head(20)"
      ]
    },
    {
      "cell_type": "markdown",
      "metadata": {
        "colab_type": "text",
        "id": "fmHQRYvyZ-8e"
      },
      "source": [
        "* A coluna \"Genre\" do primeiro DataFrame é onde se encontra os dados com problemas de escrita.\n",
        "* Na coluna \"genres\" os dados já estão limpos e devidamente padronizados."
      ]
    },
    {
      "cell_type": "code",
      "execution_count": null,
      "metadata": {
        "colab": {},
        "colab_type": "code",
        "id": "ozs6XMiCf4K5"
      },
      "outputs": [],
      "source": [
        "df_ = df_2.drop_duplicates()"
      ]
    },
    {
      "cell_type": "markdown",
      "metadata": {
        "colab_type": "text",
        "id": "idqGiW1EFXsT"
      },
      "source": [
        "Vamos dar uma olhada na quantidade de valores únicos que as essas colunas possuem."
      ]
    },
    {
      "cell_type": "code",
      "execution_count": null,
      "metadata": {
        "colab": {
          "base_uri": "https://localhost:8080/",
          "height": 34
        },
        "colab_type": "code",
        "id": "8VlvZwGwXUTv",
        "outputId": "5ea0d861-a128-4246-8dbf-d880b93f446a"
      },
      "outputs": [],
      "source": [
        "print(df[\"Genre\"].unique().shape[0])"
      ]
    },
    {
      "cell_type": "code",
      "execution_count": null,
      "metadata": {
        "colab": {
          "base_uri": "https://localhost:8080/",
          "height": 34
        },
        "colab_type": "code",
        "id": "2a2GIPp9Xugo",
        "outputId": "a422bfd1-e6af-45f3-e2cb-86467ea84fb7"
      },
      "outputs": [],
      "source": [
        "print(df_2[\"genres\"].unique().shape[0])"
      ]
    },
    {
      "cell_type": "markdown",
      "metadata": {
        "colab_type": "text",
        "id": "a3NJ2yB-alyw"
      },
      "source": [
        "Visualizando alguns dados."
      ]
    },
    {
      "cell_type": "code",
      "execution_count": null,
      "metadata": {
        "colab": {
          "base_uri": "https://localhost:8080/",
          "height": 357
        },
        "colab_type": "code",
        "id": "DAJNcqajaSR3",
        "outputId": "77e7519a-5314-4399-98b6-3e716fb40265"
      },
      "outputs": [],
      "source": [
        "df[\"Genre\"].unique().tolist()[:20]"
      ]
    },
    {
      "cell_type": "code",
      "execution_count": null,
      "metadata": {
        "colab": {
          "base_uri": "https://localhost:8080/",
          "height": 357
        },
        "colab_type": "code",
        "id": "P8rAAqcqa4Ua",
        "outputId": "e5e19f8e-5c61-4340-da6d-b5dc8d254152"
      },
      "outputs": [],
      "source": [
        "df_2[\"genres\"].unique().tolist()[:20]"
      ]
    },
    {
      "cell_type": "markdown",
      "metadata": {
        "colab_type": "text",
        "id": "hLrQiioEbLAa"
      },
      "source": [
        "Nossa coluna \"Genre\" possui dados que estão separados por vírgula, alguns por traços, ou seja, não existe nenhum padrão. Podemos resolver isso facilmente removendo todos os caracteres que são estranhos."
      ]
    },
    {
      "cell_type": "code",
      "execution_count": null,
      "metadata": {
        "colab": {},
        "colab_type": "code",
        "id": "ZdiV28CYhA3A"
      },
      "outputs": [],
      "source": [
        "df[\"Genre\"] = df[\"Genre\"].str.replace('[^A-Za-z]+', ' ')"
      ]
    },
    {
      "cell_type": "markdown",
      "metadata": {
        "colab_type": "text",
        "id": "Obqj0vNJb8zc"
      },
      "source": [
        "Temos também valores que são indefinidos, nesse caso vamos transformar esse valores em branco."
      ]
    },
    {
      "cell_type": "code",
      "execution_count": null,
      "metadata": {
        "colab": {},
        "colab_type": "code",
        "id": "7yrJn2TKGPha"
      },
      "outputs": [],
      "source": [
        "df[\"Genre\"] = df[\"Genre\"].str.replace('unknown', ' ')"
      ]
    },
    {
      "cell_type": "markdown",
      "metadata": {
        "colab_type": "text",
        "id": "bjES1695cyek"
      },
      "source": [
        "Vamos verificar como ficou nosso dataset depois dessas transformações."
      ]
    },
    {
      "cell_type": "code",
      "execution_count": null,
      "metadata": {
        "colab": {
          "base_uri": "https://localhost:8080/",
          "height": 357
        },
        "colab_type": "code",
        "id": "ZgLMmdkhhFGU",
        "outputId": "7c6c0073-3afb-4312-b169-389f2be916ae"
      },
      "outputs": [],
      "source": [
        "df[\"Genre\"].unique().tolist()[:20]"
      ]
    },
    {
      "cell_type": "markdown",
      "metadata": {
        "colab_type": "text",
        "id": "yNlU1PIbdm6E"
      },
      "source": [
        "Agora vamos criar uma função para aplicar a biblioteca fuzzywuzzy.\n",
        "Esta função utiliza a biblioteca fuzzywuzzy para comparar cada genêro com\n",
        "uma String que está correta, caso haja algum problema de grafia a string é substituída pela forma correta."
      ]
    },
    {
      "cell_type": "code",
      "execution_count": null,
      "metadata": {
        "colab": {},
        "colab_type": "code",
        "id": "cJVko70bb0BN"
      },
      "outputs": [],
      "source": [
        "def replace_matches_in_column(data, column, string_match, min_ratio, only_test=False):\n",
        "\n",
        "    # lista de strings únicas.\n",
        "    strings = data[column].unique()\n",
        "\n",
        "    # Definindo 10 como o número limite de strings mais correspondentes.\n",
        "    matches = process.extract(string_match, strings,\n",
        "                                         limit=10,\n",
        "                                         scorer=fuzz.token_sort_ratio)\n",
        "\n",
        "    # Obtendo as correspondencias que são maiores que o min_ratio.\n",
        "    close_matches = [matches[0] for matches in matches if matches[1] >= min_ratio]\n",
        "    if len(close_matches) > 0:\n",
        "        print(string_match, ':', close_matches)\n",
        "\n",
        "    # Obtendo as linhas que não correspondem ao limite definido.\n",
        "    if not(only_test):\n",
        "        rows_with_matches = data[column].isin(close_matches)\n",
        "\n",
        "        # Substituindo todos os valores correspondentes pelo valor de entrada.\n",
        "        # Os valores que não são correspondentes irão permanecer os mesmos.\n",
        "        data.loc[rows_with_matches, column] = string_match"
      ]
    },
    {
      "cell_type": "code",
      "execution_count": null,
      "metadata": {
        "colab": {
          "base_uri": "https://localhost:8080/",
          "height": 1000
        },
        "colab_type": "code",
        "id": "GaSgZeM4b2px",
        "outputId": "ec000a07-954e-4dfb-f613-bc787728a0cc"
      },
      "outputs": [],
      "source": [
        "# Eu utilizei uma taxa de semelhança  de 80%.\n",
        "for marca in df_2['genres']:\n",
        "     replace_matches_in_column(data=df, column=\"Genre\", \n",
        "                             string_match=marca, min_ratio=80)"
      ]
    },
    {
      "cell_type": "markdown",
      "metadata": {
        "colab_type": "text",
        "id": "HJVCH3KAd-tO"
      },
      "source": [
        "Agora que terminamos de aplicar a nossa função e encontrar a similaridade entre os nossos dados, vamos verificar quantos valores únicos nosso dataset possui agora."
      ]
    },
    {
      "cell_type": "code",
      "execution_count": null,
      "metadata": {
        "colab": {
          "base_uri": "https://localhost:8080/",
          "height": 34
        },
        "colab_type": "code",
        "id": "-4N11m98elE4",
        "outputId": "770eea55-a365-491c-ecc1-93ce4284d2c5"
      },
      "outputs": [],
      "source": [
        "print(df[\"Genre\"].unique().shape[0])"
      ]
    },
    {
      "cell_type": "code",
      "execution_count": null,
      "metadata": {
        "colab": {
          "base_uri": "https://localhost:8080/",
          "height": 669
        },
        "colab_type": "code",
        "id": "0AxIVkGLemxI",
        "outputId": "1a7ec13b-9ccb-4a88-a410-db540cf414c8"
      },
      "outputs": [],
      "source": [
        "df.head(20)"
      ]
    },
    {
      "cell_type": "markdown",
      "metadata": {
        "colab_type": "text",
        "id": "iAlTOU4Ufppt"
      },
      "source": [
        "Bem, podemos observar agora que tivemos uma redução consideravel no número de valores únicos em nosso dataset."
      ]
    },
    {
      "cell_type": "markdown",
      "metadata": {
        "colab_type": "text",
        "id": "zXrKtf5pf0CW"
      },
      "source": [
        "Na verdade muitos desses valores significavam a mesma coisa, porém estavam escritos de várias formas diferentes. Ainda possuimos alguns valores incorretos, mais a sua grande maioria foi tratada."
      ]
    }
  ],
  "metadata": {
    "colab": {
      "collapsed_sections": [],
      "name": " Movie_genres.ipynb",
      "provenance": []
    },
    "kernelspec": {
      "display_name": "Python 3",
      "name": "python3"
    }
  },
  "nbformat": 4,
  "nbformat_minor": 0
}
